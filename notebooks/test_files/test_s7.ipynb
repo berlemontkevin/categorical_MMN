{
 "cells": [
  {
   "cell_type": "code",
   "execution_count": 2,
   "metadata": {},
   "outputs": [],
   "source": [
    "import os\n",
    "import sys\n",
    "import importlib\n",
    "\n",
    "# project_dir = '/home/kb3856/1-project-categorical-MMN'\n",
    "project_dir = '/mnt/c/Users/kevin/OneDrive/2-code/1-Research_projects/1-project-categorical-MMN'\n",
    "src_dir = os.path.join(project_dir, 'src')\n",
    "sys.path.append(src_dir)\n",
    "import parameters as params\n",
    "import classes as cl\n",
    "import basic_functions as bf\n",
    "import numpy as np\n",
    "import random\n",
    "import pickle\n",
    "import json\n",
    "\n",
    "from itertools import product\n",
    "from multiprocessing import Pool\n",
    "\n",
    "\n",
    "data_dir = os.path.join(project_dir, 'database')\n",
    "\n",
    "\n",
    "import sqlite3\n",
    "\n",
    "\n",
    "def create_list_dict(d):\n",
    "    ''' This function returns all the possible combinations of elements within the keys\n",
    "    '''\n",
    "    list_dict = []\n",
    "    key_list = list(d.keys())\n",
    "    length_list = [len(d[key]) for key in key_list]\n",
    "    nbr_list = len(key_list)\n",
    "    \n",
    "    all_lists = list(product(*[d[key] for key in key_list]))\n",
    "    return all_lists\n",
    "   \n",
    "dict_param = {\n",
    "    'adaptation_list' : [-0.01],\n",
    "'top_down_feedback_list' : [2.0],\n",
    "'Tinter_list' : [0.5,0.7,1.0,1.5,2.0,3.0,5.0,0.2],\n",
    "'dev_id_list' : [8,108,88,78,68,58,48,38,122],\n",
    "'delay_list': [50.0,100.0],\n",
    "'ndf_plasticity': [1],\n",
    "'int_plasticity': [1],\n",
    "'bool_sigma_ndf': [1],\n",
    "'bool_sigma_int': [1],\n",
    "'adaptation_tc': [0.1] ,\n",
    "'nbr_rep': [1,2,3,4,5,6,7,8,9,10]\n",
    "}\n",
    "    \n",
    "all_dicts = create_list_dict(dict_param)\n",
    "random.shuffle(all_dicts)\n",
    "\n",
    "def run_parallel(list_param):\n",
    "  \n",
    "#         print('a')\n",
    "        params_stim = params.PARAMS_Stimulus.copy()\n",
    "        params_sim = params.PARAMS_Simulation.copy()\n",
    "        params_int = params.PARAMS_Integrator.copy()\n",
    "        params_sst = params.PARAMS_SST.copy()\n",
    "        params_ndf = params.PARAMS_NDF.copy()\n",
    "        params_pc = params.PARAMS_PC.copy()\n",
    "        params_vip = params.PARAMS_VIP.copy()\n",
    "        params_pv = params.PARAMS_PV.copy()\n",
    "        params_syn = params.PARAMS_Synapses_Integrator.copy()\n",
    "\n",
    "        params_stim['prob_std'] = 0.8\n",
    "        # params_stim['t_total'] = params_stim['Tresting'] + (params_stim['nbr_rep_std']+2)*(params_stim['Tinter']+params_stim['Tstim'])#40.0 #in seconds, constant as the task is probabilistic\n",
    "        # params.PARAMS_Simulation['N_t'] = int(params.PARAMS_Simulation['t_total']/self.PARAMS_Simulation['dt'])\n",
    "        params_stim['list_std'] = [25, 50, 75, 100, 125]\n",
    "        delay = list_param[4]*0.001\n",
    "        params_stim['Tinter'] = list_param[2]\n",
    "#         params_stim['Tresting'] = 0.01\n",
    "        params_stim['nbr_rep_std'] = list_param[10]\n",
    "#         params_stim['Tstim'] = 0.01\n",
    "        params_stim['t_total'] = params_stim['Tresting'] + (params_stim['nbr_rep_std']+4)*(params_stim['Tinter']+params_stim['Tstim'])\n",
    "#         print(params_stim['t_total'])\n",
    "        for count_type,type_stim in enumerate(['deterministic_MMN']):\n",
    "            # print(c)\n",
    "            params_stim['type'] = type_stim\n",
    "            params_pc['gA'] = list_param[0] #values are coherent with other papers\n",
    "            params_sst['gA'] = list_param[0] #values are coherent with other papers\n",
    "\n",
    "            params_stim['dev_id'] = list_param[3]\n",
    "        \n",
    "            if list_param[7] == 1:\n",
    "                params_ndf['sigma_to_dend'] = 43.2\n",
    "                params_ndf['weight_to_dend'] =  -2.0*0.89/15*20,#/20']\n",
    "\n",
    "            else:\n",
    "                params_ndf['sigma_to_dend'] = 1.2\n",
    "                params_ndf['weight_to_dend'] = -2.0*0.89/15,#/20']\n",
    "\n",
    "            if list_param[8] == 1:\n",
    "                params_syn['wmax'] = list_param[1]*0.15/20 #it corresponds to a multiplier\n",
    "                params_syn['weight_to_ndf'] = list_param[1]*0.15/20*20 #it corresponds to a multiplier\n",
    "                params_syn['sigma_to_ndf'] = 43.2\n",
    "\n",
    "            else:\n",
    "                params_syn['wmax'] = list_param[1]*0.15/20 #it corresponds to a multiplier\n",
    "                params_syn['weight_to_ndf'] = list_param[1]*0.15/20 #it corresponds to a multiplier\n",
    "                params_syn['sigma_to_bdf'] = 1.2  \n",
    "        \n",
    "            \n",
    "            \n",
    "            params_syn['bool_plasticity'] = list_param[6]\n",
    "            params_ndf['bool_plasticity'] = list_param[5]\n",
    "            params_pc['tau_adaptation'] = list_param[9]\n",
    "            params_sst['tau_adaptation'] = list_param[9]\n",
    "            \n",
    "            stim = cl.Stimulus(params_stim, params_sim, params_pc['Ncells'])\n",
    "\n",
    "            my_network = cl.Network(params_int, params_syn, params_pc, params_pv, params_sst, params_vip, params_ndf, params_sim, params_stim)\n",
    "\n",
    "            my_network.full_dynamics(stim.stimulus)\n",
    "\n",
    "\n",
    "                    \n",
    "            # fr_std, fr_dev = my_network.compute_mean_firing_rate(stim, delay = delay)\n",
    "   \n",
    "        \n",
    "        # mmn = fr_dev - fr_std\n",
    "        # mmn_norm = mmn/fr_std\n",
    "       \n",
    " \n",
    "    \n",
    "\n",
    "        return my_network, stim#print(name)\n",
    "\n",
    "\n",
    "\n",
    "\n",
    "n,s = run_parallel(all_dicts[1])"
   ]
  },
  {
   "cell_type": "code",
   "execution_count": 3,
   "metadata": {},
   "outputs": [
    {
     "data": {
      "text/plain": [
       "<classes.Stimulus at 0x7f7ac3ebe460>"
      ]
     },
     "execution_count": 3,
     "metadata": {},
     "output_type": "execute_result"
    }
   ],
   "source": [
    "s"
   ]
  },
  {
   "cell_type": "code",
   "execution_count": 4,
   "metadata": {},
   "outputs": [
    {
     "data": {
      "text/plain": [
       "array([[0., 0., 0., ..., 0., 0., 0.],\n",
       "       [0., 0., 0., ..., 0., 0., 0.],\n",
       "       [0., 0., 0., ..., 0., 0., 0.],\n",
       "       ...,\n",
       "       [0., 0., 0., ..., 0., 0., 0.],\n",
       "       [0., 0., 0., ..., 0., 0., 0.],\n",
       "       [0., 0., 0., ..., 0., 0., 0.]])"
      ]
     },
     "execution_count": 4,
     "metadata": {},
     "output_type": "execute_result"
    }
   ],
   "source": [
    "s.stimulus"
   ]
  },
  {
   "cell_type": "code",
   "execution_count": 12,
   "metadata": {},
   "outputs": [
    {
     "data": {
      "text/plain": [
       "(-0.01, 2.0, 0.7, 122, 50.0, 1, 1, 1, 1, 0.1, 2)"
      ]
     },
     "execution_count": 12,
     "metadata": {},
     "output_type": "execute_result"
    }
   ],
   "source": [
    "all_dicts[1]\n"
   ]
  },
  {
   "cell_type": "code",
   "execution_count": 11,
   "metadata": {},
   "outputs": [
    {
     "data": {
      "text/plain": [
       "[<matplotlib.lines.Line2D at 0x7f7a871083a0>]"
      ]
     },
     "execution_count": 11,
     "metadata": {},
     "output_type": "execute_result"
    },
    {
     "data": {
      "image/png": "[encoded data removed]",
      "text/plain": [
       "<Figure size 432x288 with 1 Axes>"
      ]
     },
     "metadata": {
      "needs_background": "light"
     },
     "output_type": "display_data"
    }
   ],
   "source": [
    "import matplotlib.pyplot as plt\n",
    "plt.plot(s.stimulus[20,:])\n",
    "plt.plot(s.stimulus[43,:])"
   ]
  },
  {
   "cell_type": "code",
   "execution_count": 13,
   "metadata": {},
   "outputs": [
    {
     "data": {
      "text/plain": [
       "(807.492605311263, 1047.170373317157)"
      ]
     },
     "execution_count": 13,
     "metadata": {},
     "output_type": "execute_result"
    }
   ],
   "source": [
    "n.compute_mean_firing_rate(s, delay = 0.05)"
   ]
  },
  {
   "cell_type": "code",
   "execution_count": null,
   "metadata": {},
   "outputs": [],
   "source": []
  }
 ],
 "metadata": {
  "interpreter": {
   "hash": "916dbcbb3f70747c44a77c7bcd40155683ae19c65e1c03b4aa3499c5328201f1"
  },
  "kernelspec": {
   "display_name": "Python 3.8.10 64-bit",
   "language": "python",
   "name": "python3"
  },
  "language_info": {
   "codemirror_mode": {
    "name": "ipython",
    "version": 3
   },
   "file_extension": ".py",
   "mimetype": "text/x-python",
   "name": "python",
   "nbconvert_exporter": "python",
   "pygments_lexer": "ipython3",
   "version": "3.8.10"
  },
  "orig_nbformat": 4
 },
 "nbformat": 4,
 "nbformat_minor": 2
}
