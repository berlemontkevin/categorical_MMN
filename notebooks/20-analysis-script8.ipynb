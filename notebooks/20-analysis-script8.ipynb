{
 "cells": [
  {
   "cell_type": "code",
   "execution_count": 2,
   "metadata": {},
   "outputs": [],
   "source": [
    "# This notebook investigates the data from script 8 (comments of XJ)\n",
    "import os\n",
    "import sys\n",
    "import importlib\n",
    "import numpy as np\n",
    "script_dir = '/home/kberlemo/projects/categorical_MMN/notebooks'\n",
    "src_dir = os.path.join(script_dir, '..', 'src')\n",
    "sys.path.append(src_dir)\n",
    "import parameters as params\n",
    "import classes as cl\n",
    "import basic_functions as bf\n",
    "# import seaborn as sns\n",
    "import pandas as pd"
   ]
  },
  {
   "cell_type": "code",
   "execution_count": 3,
   "metadata": {},
   "outputs": [],
   "source": [
    "# Local server SQL database\n",
    "import sqlite3 as sq"
   ]
  },
  {
   "cell_type": "code",
   "execution_count": 4,
   "metadata": {},
   "outputs": [],
   "source": [
    "project_dir = '/home/kberlemo/projects/categorical_MMN'\n",
    "database_dir = os.path.join(project_dir, 'database/')\n",
    "name = 'script8_database.db'\n",
    "file_dir = os.path.join(database_dir, name)\n",
    "con = sq.connect(file_dir)\n",
    "cur = con.cursor()"
   ]
  },
  {
   "cell_type": "code",
   "execution_count": 15,
   "metadata": {},
   "outputs": [
    {
     "data": {
      "text/plain": [
       "[(0.1, 3, 0.2),\n",
       " (0.1, 2, 0.5),\n",
       " (0.1, 1, 0.7),\n",
       " (0.1, 3, 1.0),\n",
       " (0.1, 1, 1.5),\n",
       " (0.1, 4, 2.0),\n",
       " (0.1, 2, 2.5),\n",
       " (0.1, 4, 3.0),\n",
       " (0.1, 4, 5.0),\n",
       " (0.5, 5, 0.2),\n",
       " (0.5, 1, 0.5),\n",
       " (0.5, 2, 0.7),\n",
       " (0.5, 3, 1.0),\n",
       " (0.5, 1, 1.5),\n",
       " (0.5, 2, 2.0),\n",
       " (0.5, 2, 5.0),\n",
       " (0.5, 4, 10.0),\n",
       " (1.0, 1, 0.2),\n",
       " (1.0, 3, 0.5),\n",
       " (1.0, 2, 0.7),\n",
       " (1.0, 4, 1.0),\n",
       " (1.0, 1, 1.5),\n",
       " (1.0, 3, 2.0),\n",
       " (1.0, 3, 3.0),\n",
       " (1.0, 3, 5.0),\n",
       " (1.0, 1, 10.0)]"
      ]
     },
     "execution_count": 15,
     "metadata": {},
     "output_type": "execute_result"
    }
   ],
   "source": [
    "cur.execute('''\n",
    "            SELECT DISTINCT adaptation_tc, COUNT(name_id), Tinter\n",
    "            FROM MMN_effect_deterministic\n",
    "            WHERE (dev_id = 88) \n",
    "            GROUP BY adaptation_tc,Tinter\n",
    "            ''')\n",
    "cur.fetchall()"
   ]
  },
  {
   "cell_type": "code",
   "execution_count": 12,
   "metadata": {},
   "outputs": [
    {
     "data": {
      "text/html": [
       "<div>\n",
       "<style scoped>\n",
       "    .dataframe tbody tr th:only-of-type {\n",
       "        vertical-align: middle;\n",
       "    }\n",
       "\n",
       "    .dataframe tbody tr th {\n",
       "        vertical-align: top;\n",
       "    }\n",
       "\n",
       "    .dataframe thead th {\n",
       "        text-align: right;\n",
       "    }\n",
       "</style>\n",
       "<table border=\"1\" class=\"dataframe\">\n",
       "  <thead>\n",
       "    <tr style=\"text-align: right;\">\n",
       "      <th></th>\n",
       "      <th>MMN_norm</th>\n",
       "      <th>top_down_feedback</th>\n",
       "      <th>adaptation</th>\n",
       "      <th>adaptation_tc</th>\n",
       "    </tr>\n",
       "  </thead>\n",
       "  <tbody>\n",
       "    <tr>\n",
       "      <th>0</th>\n",
       "      <td>-0.246755</td>\n",
       "      <td>3.0</td>\n",
       "      <td>-0.08</td>\n",
       "      <td>0.1</td>\n",
       "    </tr>\n",
       "    <tr>\n",
       "      <th>1</th>\n",
       "      <td>0.191745</td>\n",
       "      <td>0.0</td>\n",
       "      <td>-0.05</td>\n",
       "      <td>1.0</td>\n",
       "    </tr>\n",
       "    <tr>\n",
       "      <th>2</th>\n",
       "      <td>0.203214</td>\n",
       "      <td>1.0</td>\n",
       "      <td>-0.05</td>\n",
       "      <td>1.0</td>\n",
       "    </tr>\n",
       "    <tr>\n",
       "      <th>3</th>\n",
       "      <td>0.400293</td>\n",
       "      <td>2.0</td>\n",
       "      <td>0.00</td>\n",
       "      <td>0.1</td>\n",
       "    </tr>\n",
       "  </tbody>\n",
       "</table>\n",
       "</div>"
      ],
      "text/plain": [
       "   MMN_norm  top_down_feedback  adaptation  adaptation_tc\n",
       "0 -0.246755                3.0       -0.08            0.1\n",
       "1  0.191745                0.0       -0.05            1.0\n",
       "2  0.203214                1.0       -0.05            1.0\n",
       "3  0.400293                2.0        0.00            0.1"
      ]
     },
     "execution_count": 12,
     "metadata": {},
     "output_type": "execute_result"
    }
   ],
   "source": [
    "q1 = (\n",
    "    'SELECT AVG(MMN_norm) as MMN_norm, top_down_feedback, adaptation, adaptation_tc '\n",
    "    'FROM MMN_effect_deterministic '\n",
    "    'WHERE (dev_id = 88) AND (Tinter = 0.5) '\n",
    "    'AND (ndf_plasticity = 1) AND (int_plasticity = 1) '\n",
    "    'GROUP BY top_down_feedback, adaptation, adaptation_tc '\n",
    "    'ORDER BY  adaptation, top_down_feedback, adaptation_tc'\n",
    ")\n",
    "r1 = pd.read_sql(q1,con)\n",
    "r1\n"
   ]
  },
  {
   "cell_type": "code",
   "execution_count": null,
   "metadata": {},
   "outputs": [],
   "source": [
    "#"
   ]
  }
 ],
 "metadata": {
  "kernelspec": {
   "display_name": "my_env",
   "language": "python",
   "name": "python3"
  },
  "language_info": {
   "codemirror_mode": {
    "name": "ipython",
    "version": 3
   },
   "file_extension": ".py",
   "mimetype": "text/x-python",
   "name": "python",
   "nbconvert_exporter": "python",
   "pygments_lexer": "ipython3",
   "version": "3.7.5"
  },
  "orig_nbformat": 4,
  "vscode": {
   "interpreter": {
    "hash": "d61ab914f58fcdf59dda15d927465628fc67b12a4537c8b4130e226b98241a32"
   }
  }
 },
 "nbformat": 4,
 "nbformat_minor": 2
}
